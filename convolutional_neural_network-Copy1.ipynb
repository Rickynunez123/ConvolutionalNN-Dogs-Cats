{
 "cells": [
  {
   "cell_type": "markdown",
   "metadata": {
    "colab_type": "text",
    "id": "3DR-eO17geWu"
   },
   "source": [
    "# Convolutional Neural Network"
   ]
  },
  {
   "cell_type": "markdown",
   "metadata": {
    "colab_type": "text",
    "id": "EMefrVPCg-60"
   },
   "source": [
    "### Importing the libraries"
   ]
  },
  {
   "cell_type": "code",
   "execution_count": 46,
   "metadata": {},
   "outputs": [],
   "source": [
    "import tensorflow as tf\n",
    "from keras.preprocessing.image import ImageDataGenerator"
   ]
  },
  {
   "cell_type": "code",
   "execution_count": 47,
   "metadata": {},
   "outputs": [
    {
     "data": {
      "text/plain": [
       "'2.10.0'"
      ]
     },
     "execution_count": 47,
     "metadata": {},
     "output_type": "execute_result"
    }
   ],
   "source": [
    "tf.__version__"
   ]
  },
  {
   "cell_type": "markdown",
   "metadata": {
    "colab_type": "text",
    "id": "oxQxCBWyoGPE"
   },
   "source": [
    "## Part 1 - Data Preprocessing"
   ]
  },
  {
   "cell_type": "markdown",
   "metadata": {
    "colab_type": "text",
    "id": "MvE-heJNo3GG"
   },
   "source": [
    "### Preprocessing the Training set"
   ]
  },
  {
   "cell_type": "code",
   "execution_count": 48,
   "metadata": {},
   "outputs": [],
   "source": [
    "# Image augmentation - apply img transformation \n",
    "# We will apply some transformation on the img of the data set \n",
    "# We are doing this to avoid overfitting, \n",
    "# it will add some zooms, rotation, zoom out and more \n",
    "# we need this because so itm does not overlearn/overtrain in existing images"
   ]
  },
  {
   "cell_type": "code",
   "execution_count": 49,
   "metadata": {},
   "outputs": [
    {
     "name": "stdout",
     "output_type": "stream",
     "text": [
      "Found 8000 images belonging to 2 classes.\n"
     ]
    }
   ],
   "source": [
    "# batch_size - how many images do you want to have in each batch \n",
    "# target_size - desired size of the input image 64x64\n",
    "# rescale is normalization Dividing by 255 normalizes the pixel values to the range of [0, 1]. \n",
    "# This rescaling is commonly performed to ensure that the\n",
    "# pixel values are within a manageable range for the model to process.\n",
    "train_datagen = ImageDataGenerator(rescale = 1./255,\n",
    "                                  shear_range = 0.2,\n",
    "                                  zoom_range = 0.2,\n",
    "                                  horizontal_flip = True)\n",
    "training_set = train_datagen.flow_from_directory('dataset/training_set',\n",
    "                                                target_size = (64, 64),\n",
    "                                                batch_size = 32,\n",
    "                                                class_mode = 'binary')"
   ]
  },
  {
   "cell_type": "markdown",
   "metadata": {
    "colab_type": "text",
    "id": "mrCMmGw9pHys"
   },
   "source": [
    "### Preprocessing the Test set"
   ]
  },
  {
   "cell_type": "code",
   "execution_count": 50,
   "metadata": {},
   "outputs": [
    {
     "name": "stdout",
     "output_type": "stream",
     "text": [
      "Found 2000 images belonging to 2 classes.\n"
     ]
    }
   ],
   "source": [
    "test_datagen = ImageDataGenerator(rescale = 1./255)\n",
    "test_set = test_datagen.flow_from_directory('dataset/test_set',\n",
    "                                            target_size = (64, 64),\n",
    "                                            batch_size = 32,\n",
    "                                            class_mode = 'binary')\n",
    "\n"
   ]
  },
  {
   "cell_type": "markdown",
   "metadata": {
    "colab_type": "text",
    "id": "af8O4l90gk7B"
   },
   "source": [
    "## Part 2 - Building the CNN"
   ]
  },
  {
   "cell_type": "markdown",
   "metadata": {
    "colab_type": "text",
    "id": "ces1gXY2lmoX"
   },
   "source": [
    "### Initialising the CNN"
   ]
  },
  {
   "cell_type": "code",
   "execution_count": 51,
   "metadata": {},
   "outputs": [],
   "source": [
    "cnn = tf.keras.models.Sequential()"
   ]
  },
  {
   "cell_type": "markdown",
   "metadata": {
    "colab_type": "text",
    "id": "u5YJj_XMl5LF"
   },
   "source": [
    "### Step 1 - Convolution"
   ]
  },
  {
   "cell_type": "code",
   "execution_count": 52,
   "metadata": {},
   "outputs": [],
   "source": [
    "# filter how many feature detector we want \n",
    "# kernel = 3 is a 3x3 matrix\n",
    "# input_shape = (size, size, color = rgb = 2, black and white  = 1)\n",
    "\n",
    "cnn.add(tf.keras.layers.Conv2D(filters = 32, kernel_size = 3, activation='relu', input_shape=[64, 64, 3]))\n"
   ]
  },
  {
   "cell_type": "markdown",
   "metadata": {
    "colab_type": "text",
    "id": "tf87FpvxmNOJ"
   },
   "source": [
    "### Step 2 - Pooling"
   ]
  },
  {
   "cell_type": "code",
   "execution_count": 53,
   "metadata": {},
   "outputs": [],
   "source": [
    "# pool_size is how big do you want the detector 2x2\n",
    "# strides, how many pixels to the right or down do you want to shift\n",
    "\n",
    "cnn.add(tf.keras.layers.MaxPool2D(pool_size=2, strides = 2))"
   ]
  },
  {
   "cell_type": "markdown",
   "metadata": {
    "colab_type": "text",
    "id": "xaTOgD8rm4mU"
   },
   "source": [
    "### Adding a second convolutional layer"
   ]
  },
  {
   "cell_type": "code",
   "execution_count": 54,
   "metadata": {},
   "outputs": [],
   "source": [
    "# adding second convolutional layer with max pool applied \n",
    "cnn.add(tf.keras.layers.Conv2D(filters = 32, kernel_size = 3, activation='relu'))\n",
    "cnn.add(tf.keras.layers.MaxPool2D(pool_size=2, strides = 2))"
   ]
  },
  {
   "cell_type": "markdown",
   "metadata": {
    "colab_type": "text",
    "id": "tmiEuvTunKfk"
   },
   "source": [
    "### Step 3 - Flattening"
   ]
  },
  {
   "cell_type": "code",
   "execution_count": 55,
   "metadata": {},
   "outputs": [],
   "source": [
    "cnn.add(tf.keras.layers.Flatten())"
   ]
  },
  {
   "cell_type": "markdown",
   "metadata": {
    "colab_type": "text",
    "id": "dAoSECOm203v"
   },
   "source": [
    "### Step 4 - Full Connection"
   ]
  },
  {
   "cell_type": "code",
   "execution_count": 56,
   "metadata": {},
   "outputs": [],
   "source": [
    "# units =number of neaurons\n",
    "cnn.add(tf.keras.layers.Dense(units = 128, activation='relu'))\n"
   ]
  },
  {
   "cell_type": "markdown",
   "metadata": {
    "colab_type": "text",
    "id": "yTldFvbX28Na"
   },
   "source": [
    "### Step 5 - Output Layer"
   ]
  },
  {
   "cell_type": "code",
   "execution_count": 57,
   "metadata": {},
   "outputs": [],
   "source": [
    "# units is 1 because is binary \n",
    "cnn.add(tf.keras.layers.Dense(units = 1, activation='sigmoid'))\n"
   ]
  },
  {
   "cell_type": "markdown",
   "metadata": {
    "colab_type": "text",
    "id": "D6XkI90snSDl"
   },
   "source": [
    "## Part 3 - Training the CNN"
   ]
  },
  {
   "cell_type": "markdown",
   "metadata": {
    "colab_type": "text",
    "id": "vfrFQACEnc6i"
   },
   "source": [
    "### Compiling the CNN"
   ]
  },
  {
   "cell_type": "code",
   "execution_count": 58,
   "metadata": {},
   "outputs": [],
   "source": [
    "cnn.compile(optimizer = 'adam', loss = 'binary_crossentropy', metrics = ['accuracy'])\n"
   ]
  },
  {
   "cell_type": "markdown",
   "metadata": {
    "colab_type": "text",
    "id": "ehS-v3MIpX2h"
   },
   "source": [
    "### Training the CNN on the Training set and evaluating it on the Test set"
   ]
  },
  {
   "cell_type": "code",
   "execution_count": 59,
   "metadata": {},
   "outputs": [
    {
     "name": "stdout",
     "output_type": "stream",
     "text": [
      "Epoch 1/25\n",
      "250/250 [==============================] - 19s 77ms/step - loss: 0.6917 - accuracy: 0.5556 - val_loss: 0.6430 - val_accuracy: 0.6455\n",
      "Epoch 2/25\n",
      "250/250 [==============================] - 19s 77ms/step - loss: 0.6192 - accuracy: 0.6580 - val_loss: 0.5887 - val_accuracy: 0.6920\n",
      "Epoch 3/25\n",
      "250/250 [==============================] - 19s 76ms/step - loss: 0.5845 - accuracy: 0.6890 - val_loss: 0.5621 - val_accuracy: 0.7180\n",
      "Epoch 4/25\n",
      "250/250 [==============================] - 19s 76ms/step - loss: 0.5491 - accuracy: 0.7222 - val_loss: 0.5567 - val_accuracy: 0.7120\n",
      "Epoch 5/25\n",
      "250/250 [==============================] - 19s 76ms/step - loss: 0.5275 - accuracy: 0.7364 - val_loss: 0.5330 - val_accuracy: 0.7400\n",
      "Epoch 6/25\n",
      "250/250 [==============================] - 19s 76ms/step - loss: 0.5080 - accuracy: 0.7511 - val_loss: 0.5236 - val_accuracy: 0.7455\n",
      "Epoch 7/25\n",
      "250/250 [==============================] - 19s 76ms/step - loss: 0.4898 - accuracy: 0.7629 - val_loss: 0.4908 - val_accuracy: 0.7655\n",
      "Epoch 8/25\n",
      "250/250 [==============================] - 19s 77ms/step - loss: 0.4830 - accuracy: 0.7670 - val_loss: 0.4967 - val_accuracy: 0.7670\n",
      "Epoch 9/25\n",
      "250/250 [==============================] - 19s 77ms/step - loss: 0.4569 - accuracy: 0.7891 - val_loss: 0.4800 - val_accuracy: 0.7765\n",
      "Epoch 10/25\n",
      "250/250 [==============================] - 19s 76ms/step - loss: 0.4558 - accuracy: 0.7825 - val_loss: 0.4782 - val_accuracy: 0.7730\n",
      "Epoch 11/25\n",
      "250/250 [==============================] - 19s 77ms/step - loss: 0.4438 - accuracy: 0.7949 - val_loss: 0.4585 - val_accuracy: 0.7840\n",
      "Epoch 12/25\n",
      "250/250 [==============================] - 19s 77ms/step - loss: 0.4247 - accuracy: 0.7979 - val_loss: 0.4765 - val_accuracy: 0.7830\n",
      "Epoch 13/25\n",
      "250/250 [==============================] - 19s 77ms/step - loss: 0.4098 - accuracy: 0.8109 - val_loss: 0.4846 - val_accuracy: 0.7680\n",
      "Epoch 14/25\n",
      "250/250 [==============================] - 19s 76ms/step - loss: 0.3993 - accuracy: 0.8177 - val_loss: 0.4612 - val_accuracy: 0.7940\n",
      "Epoch 15/25\n",
      "250/250 [==============================] - 19s 76ms/step - loss: 0.4033 - accuracy: 0.8141 - val_loss: 0.4405 - val_accuracy: 0.8030\n",
      "Epoch 16/25\n",
      "250/250 [==============================] - 19s 78ms/step - loss: 0.3823 - accuracy: 0.8238 - val_loss: 0.4525 - val_accuracy: 0.7985\n",
      "Epoch 17/25\n",
      "250/250 [==============================] - 22s 89ms/step - loss: 0.3742 - accuracy: 0.8280 - val_loss: 0.5159 - val_accuracy: 0.7600\n",
      "Epoch 18/25\n",
      "250/250 [==============================] - 19s 75ms/step - loss: 0.3745 - accuracy: 0.8307 - val_loss: 0.4578 - val_accuracy: 0.7935\n",
      "Epoch 19/25\n",
      "250/250 [==============================] - 19s 76ms/step - loss: 0.3609 - accuracy: 0.8375 - val_loss: 0.4540 - val_accuracy: 0.8075\n",
      "Epoch 20/25\n",
      "250/250 [==============================] - 19s 77ms/step - loss: 0.3514 - accuracy: 0.8429 - val_loss: 0.4888 - val_accuracy: 0.7805\n",
      "Epoch 21/25\n",
      "250/250 [==============================] - 19s 76ms/step - loss: 0.3394 - accuracy: 0.8474 - val_loss: 0.4716 - val_accuracy: 0.8055\n",
      "Epoch 22/25\n",
      "250/250 [==============================] - 19s 77ms/step - loss: 0.3342 - accuracy: 0.8504 - val_loss: 0.4743 - val_accuracy: 0.7935\n",
      "Epoch 23/25\n",
      "250/250 [==============================] - 20s 80ms/step - loss: 0.3329 - accuracy: 0.8515 - val_loss: 0.5509 - val_accuracy: 0.7680\n",
      "Epoch 24/25\n",
      "250/250 [==============================] - 20s 78ms/step - loss: 0.3231 - accuracy: 0.8576 - val_loss: 0.5192 - val_accuracy: 0.7820\n",
      "Epoch 25/25\n",
      "250/250 [==============================] - 20s 78ms/step - loss: 0.3104 - accuracy: 0.8622 - val_loss: 0.4862 - val_accuracy: 0.7920\n"
     ]
    }
   ],
   "source": [
    "cnn.fit(x = training_set, validation_data = test_set, epochs = 25);"
   ]
  },
  {
   "cell_type": "markdown",
   "metadata": {
    "colab_type": "text",
    "id": "U3PZasO0006Z"
   },
   "source": [
    "## Part 4 - Making a single prediction"
   ]
  },
  {
   "cell_type": "code",
   "execution_count": 72,
   "metadata": {},
   "outputs": [
    {
     "name": "stdout",
     "output_type": "stream",
     "text": [
      "1/1 [==============================] - 0s 12ms/step\n"
     ]
    }
   ],
   "source": [
    "import numpy as np\n",
    "# from keras.preprocessing import image\n",
    "import keras.utils as image\n",
    "\n",
    "test_image = image.load_img('dataset/single_prediction/cat_or_dog_5.jpg', target_size = (64, 64))\n",
    "test_image = image.img_to_array(test_image)\n",
    "test_image = np.expand_dims(test_image, axis = 0)\n",
    "result = cnn.predict(test_image/255.0)\n",
    "\n",
    "training_set.class_indices\n",
    "# [single element of the batch][prediction]\n",
    "if result[0][0] > 0.5:\n",
    "  prediction = 'dog'\n",
    "else:\n",
    "  prediction = 'cat'\n"
   ]
  },
  {
   "cell_type": "code",
   "execution_count": 73,
   "metadata": {},
   "outputs": [
    {
     "name": "stdout",
     "output_type": "stream",
     "text": [
      "dog\n"
     ]
    }
   ],
   "source": [
    "print(prediction)"
   ]
  },
  {
   "cell_type": "code",
   "execution_count": null,
   "metadata": {},
   "outputs": [],
   "source": []
  }
 ],
 "metadata": {
  "colab": {
   "authorship_tag": "ABX9TyON0YxX/oky4tPbqCLnFjWD",
   "collapsed_sections": [],
   "name": "convolutional_neural_network.ipynb",
   "provenance": [],
   "toc_visible": true
  },
  "kernelspec": {
   "display_name": "Python 3 (ipykernel)",
   "language": "python",
   "name": "python3"
  },
  "language_info": {
   "codemirror_mode": {
    "name": "ipython",
    "version": 3
   },
   "file_extension": ".py",
   "mimetype": "text/x-python",
   "name": "python",
   "nbconvert_exporter": "python",
   "pygments_lexer": "ipython3",
   "version": "3.10.9"
  }
 },
 "nbformat": 4,
 "nbformat_minor": 1
}
